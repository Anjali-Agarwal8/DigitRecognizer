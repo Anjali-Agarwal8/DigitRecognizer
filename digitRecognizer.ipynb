{
 "cells": [
  {
   "cell_type": "code",
   "execution_count": 1,
   "metadata": {
    "_cell_guid": "b1076dfc-b9ad-4769-8c92-a6c4dae69d19",
    "_uuid": "8f2839f25d086af736a60e9eeb907d3b93b6e0e5",
    "execution": {
     "iopub.execute_input": "2021-03-12T14:01:40.830155Z",
     "iopub.status.busy": "2021-03-12T14:01:40.829118Z",
     "iopub.status.idle": "2021-03-12T14:01:40.835018Z",
     "shell.execute_reply": "2021-03-12T14:01:40.833876Z"
    },
    "papermill": {
     "duration": 0.033048,
     "end_time": "2021-03-12T14:01:40.835454",
     "exception": false,
     "start_time": "2021-03-12T14:01:40.802406",
     "status": "completed"
    },
    "tags": []
   },
   "outputs": [
    {
     "name": "stdout",
     "output_type": "stream",
     "text": [
      "/kaggle/input/digit-recognizer/sample_submission.csv\n",
      "/kaggle/input/digit-recognizer/train.csv\n",
      "/kaggle/input/digit-recognizer/test.csv\n"
     ]
    }
   ],
   "source": [
    "# This Python 3 environment comes with many helpful analytics libraries installed\n",
    "# It is defined by the kaggle/python Docker image: https://github.com/kaggle/docker-python\n",
    "# For example, here's several helpful packages to load\n",
    "\n",
    "import numpy as np # linear algebra\n",
    "import pandas as pd # data processing, CSV file I/O (e.g. pd.read_csv)\n",
    "\n",
    "# Input data files are available in the read-only \"../input/\" directory\n",
    "# For example, running this (by clicking run or pressing Shift+Enter) will list all files under the input directory\n",
    "\n",
    "import os\n",
    "for dirname, _, filenames in os.walk('/kaggle/input'):\n",
    "    for filename in filenames:\n",
    "        print(os.path.join(dirname, filename))\n",
    "\n",
    "# You can write up to 20GB to the current directory (/kaggle/working/) that gets preserved as output when you create a version using \"Save & Run All\" \n",
    "# You can also write temporary files to /kaggle/temp/, but they won't be saved outside of the current session"
   ]
  },
  {
   "cell_type": "markdown",
   "metadata": {
    "papermill": {
     "duration": 0.017565,
     "end_time": "2021-03-12T14:01:40.873728",
     "exception": false,
     "start_time": "2021-03-12T14:01:40.856163",
     "status": "completed"
    },
    "tags": []
   },
   "source": [
    "Reading the dataset for training. "
   ]
  },
  {
   "cell_type": "code",
   "execution_count": 2,
   "metadata": {
    "execution": {
     "iopub.execute_input": "2021-03-12T14:01:40.915464Z",
     "iopub.status.busy": "2021-03-12T14:01:40.914729Z",
     "iopub.status.idle": "2021-03-12T14:01:45.065069Z",
     "shell.execute_reply": "2021-03-12T14:01:45.064365Z"
    },
    "papermill": {
     "duration": 4.173902,
     "end_time": "2021-03-12T14:01:45.065224",
     "exception": false,
     "start_time": "2021-03-12T14:01:40.891322",
     "status": "completed"
    },
    "tags": []
   },
   "outputs": [
    {
     "data": {
      "text/html": [
       "<div>\n",
       "<style scoped>\n",
       "    .dataframe tbody tr th:only-of-type {\n",
       "        vertical-align: middle;\n",
       "    }\n",
       "\n",
       "    .dataframe tbody tr th {\n",
       "        vertical-align: top;\n",
       "    }\n",
       "\n",
       "    .dataframe thead th {\n",
       "        text-align: right;\n",
       "    }\n",
       "</style>\n",
       "<table border=\"1\" class=\"dataframe\">\n",
       "  <thead>\n",
       "    <tr style=\"text-align: right;\">\n",
       "      <th></th>\n",
       "      <th>label</th>\n",
       "      <th>pixel0</th>\n",
       "      <th>pixel1</th>\n",
       "      <th>pixel2</th>\n",
       "      <th>pixel3</th>\n",
       "      <th>pixel4</th>\n",
       "      <th>pixel5</th>\n",
       "      <th>pixel6</th>\n",
       "      <th>pixel7</th>\n",
       "      <th>pixel8</th>\n",
       "      <th>...</th>\n",
       "      <th>pixel774</th>\n",
       "      <th>pixel775</th>\n",
       "      <th>pixel776</th>\n",
       "      <th>pixel777</th>\n",
       "      <th>pixel778</th>\n",
       "      <th>pixel779</th>\n",
       "      <th>pixel780</th>\n",
       "      <th>pixel781</th>\n",
       "      <th>pixel782</th>\n",
       "      <th>pixel783</th>\n",
       "    </tr>\n",
       "  </thead>\n",
       "  <tbody>\n",
       "    <tr>\n",
       "      <th>0</th>\n",
       "      <td>1</td>\n",
       "      <td>0</td>\n",
       "      <td>0</td>\n",
       "      <td>0</td>\n",
       "      <td>0</td>\n",
       "      <td>0</td>\n",
       "      <td>0</td>\n",
       "      <td>0</td>\n",
       "      <td>0</td>\n",
       "      <td>0</td>\n",
       "      <td>...</td>\n",
       "      <td>0</td>\n",
       "      <td>0</td>\n",
       "      <td>0</td>\n",
       "      <td>0</td>\n",
       "      <td>0</td>\n",
       "      <td>0</td>\n",
       "      <td>0</td>\n",
       "      <td>0</td>\n",
       "      <td>0</td>\n",
       "      <td>0</td>\n",
       "    </tr>\n",
       "    <tr>\n",
       "      <th>1</th>\n",
       "      <td>0</td>\n",
       "      <td>0</td>\n",
       "      <td>0</td>\n",
       "      <td>0</td>\n",
       "      <td>0</td>\n",
       "      <td>0</td>\n",
       "      <td>0</td>\n",
       "      <td>0</td>\n",
       "      <td>0</td>\n",
       "      <td>0</td>\n",
       "      <td>...</td>\n",
       "      <td>0</td>\n",
       "      <td>0</td>\n",
       "      <td>0</td>\n",
       "      <td>0</td>\n",
       "      <td>0</td>\n",
       "      <td>0</td>\n",
       "      <td>0</td>\n",
       "      <td>0</td>\n",
       "      <td>0</td>\n",
       "      <td>0</td>\n",
       "    </tr>\n",
       "    <tr>\n",
       "      <th>2</th>\n",
       "      <td>1</td>\n",
       "      <td>0</td>\n",
       "      <td>0</td>\n",
       "      <td>0</td>\n",
       "      <td>0</td>\n",
       "      <td>0</td>\n",
       "      <td>0</td>\n",
       "      <td>0</td>\n",
       "      <td>0</td>\n",
       "      <td>0</td>\n",
       "      <td>...</td>\n",
       "      <td>0</td>\n",
       "      <td>0</td>\n",
       "      <td>0</td>\n",
       "      <td>0</td>\n",
       "      <td>0</td>\n",
       "      <td>0</td>\n",
       "      <td>0</td>\n",
       "      <td>0</td>\n",
       "      <td>0</td>\n",
       "      <td>0</td>\n",
       "    </tr>\n",
       "    <tr>\n",
       "      <th>3</th>\n",
       "      <td>4</td>\n",
       "      <td>0</td>\n",
       "      <td>0</td>\n",
       "      <td>0</td>\n",
       "      <td>0</td>\n",
       "      <td>0</td>\n",
       "      <td>0</td>\n",
       "      <td>0</td>\n",
       "      <td>0</td>\n",
       "      <td>0</td>\n",
       "      <td>...</td>\n",
       "      <td>0</td>\n",
       "      <td>0</td>\n",
       "      <td>0</td>\n",
       "      <td>0</td>\n",
       "      <td>0</td>\n",
       "      <td>0</td>\n",
       "      <td>0</td>\n",
       "      <td>0</td>\n",
       "      <td>0</td>\n",
       "      <td>0</td>\n",
       "    </tr>\n",
       "    <tr>\n",
       "      <th>4</th>\n",
       "      <td>0</td>\n",
       "      <td>0</td>\n",
       "      <td>0</td>\n",
       "      <td>0</td>\n",
       "      <td>0</td>\n",
       "      <td>0</td>\n",
       "      <td>0</td>\n",
       "      <td>0</td>\n",
       "      <td>0</td>\n",
       "      <td>0</td>\n",
       "      <td>...</td>\n",
       "      <td>0</td>\n",
       "      <td>0</td>\n",
       "      <td>0</td>\n",
       "      <td>0</td>\n",
       "      <td>0</td>\n",
       "      <td>0</td>\n",
       "      <td>0</td>\n",
       "      <td>0</td>\n",
       "      <td>0</td>\n",
       "      <td>0</td>\n",
       "    </tr>\n",
       "    <tr>\n",
       "      <th>5</th>\n",
       "      <td>0</td>\n",
       "      <td>0</td>\n",
       "      <td>0</td>\n",
       "      <td>0</td>\n",
       "      <td>0</td>\n",
       "      <td>0</td>\n",
       "      <td>0</td>\n",
       "      <td>0</td>\n",
       "      <td>0</td>\n",
       "      <td>0</td>\n",
       "      <td>...</td>\n",
       "      <td>0</td>\n",
       "      <td>0</td>\n",
       "      <td>0</td>\n",
       "      <td>0</td>\n",
       "      <td>0</td>\n",
       "      <td>0</td>\n",
       "      <td>0</td>\n",
       "      <td>0</td>\n",
       "      <td>0</td>\n",
       "      <td>0</td>\n",
       "    </tr>\n",
       "    <tr>\n",
       "      <th>6</th>\n",
       "      <td>7</td>\n",
       "      <td>0</td>\n",
       "      <td>0</td>\n",
       "      <td>0</td>\n",
       "      <td>0</td>\n",
       "      <td>0</td>\n",
       "      <td>0</td>\n",
       "      <td>0</td>\n",
       "      <td>0</td>\n",
       "      <td>0</td>\n",
       "      <td>...</td>\n",
       "      <td>0</td>\n",
       "      <td>0</td>\n",
       "      <td>0</td>\n",
       "      <td>0</td>\n",
       "      <td>0</td>\n",
       "      <td>0</td>\n",
       "      <td>0</td>\n",
       "      <td>0</td>\n",
       "      <td>0</td>\n",
       "      <td>0</td>\n",
       "    </tr>\n",
       "    <tr>\n",
       "      <th>7</th>\n",
       "      <td>3</td>\n",
       "      <td>0</td>\n",
       "      <td>0</td>\n",
       "      <td>0</td>\n",
       "      <td>0</td>\n",
       "      <td>0</td>\n",
       "      <td>0</td>\n",
       "      <td>0</td>\n",
       "      <td>0</td>\n",
       "      <td>0</td>\n",
       "      <td>...</td>\n",
       "      <td>0</td>\n",
       "      <td>0</td>\n",
       "      <td>0</td>\n",
       "      <td>0</td>\n",
       "      <td>0</td>\n",
       "      <td>0</td>\n",
       "      <td>0</td>\n",
       "      <td>0</td>\n",
       "      <td>0</td>\n",
       "      <td>0</td>\n",
       "    </tr>\n",
       "    <tr>\n",
       "      <th>8</th>\n",
       "      <td>5</td>\n",
       "      <td>0</td>\n",
       "      <td>0</td>\n",
       "      <td>0</td>\n",
       "      <td>0</td>\n",
       "      <td>0</td>\n",
       "      <td>0</td>\n",
       "      <td>0</td>\n",
       "      <td>0</td>\n",
       "      <td>0</td>\n",
       "      <td>...</td>\n",
       "      <td>0</td>\n",
       "      <td>0</td>\n",
       "      <td>0</td>\n",
       "      <td>0</td>\n",
       "      <td>0</td>\n",
       "      <td>0</td>\n",
       "      <td>0</td>\n",
       "      <td>0</td>\n",
       "      <td>0</td>\n",
       "      <td>0</td>\n",
       "    </tr>\n",
       "    <tr>\n",
       "      <th>9</th>\n",
       "      <td>3</td>\n",
       "      <td>0</td>\n",
       "      <td>0</td>\n",
       "      <td>0</td>\n",
       "      <td>0</td>\n",
       "      <td>0</td>\n",
       "      <td>0</td>\n",
       "      <td>0</td>\n",
       "      <td>0</td>\n",
       "      <td>0</td>\n",
       "      <td>...</td>\n",
       "      <td>0</td>\n",
       "      <td>0</td>\n",
       "      <td>0</td>\n",
       "      <td>0</td>\n",
       "      <td>0</td>\n",
       "      <td>0</td>\n",
       "      <td>0</td>\n",
       "      <td>0</td>\n",
       "      <td>0</td>\n",
       "      <td>0</td>\n",
       "    </tr>\n",
       "  </tbody>\n",
       "</table>\n",
       "<p>10 rows × 785 columns</p>\n",
       "</div>"
      ],
      "text/plain": [
       "   label  pixel0  pixel1  pixel2  pixel3  pixel4  pixel5  pixel6  pixel7  \\\n",
       "0      1       0       0       0       0       0       0       0       0   \n",
       "1      0       0       0       0       0       0       0       0       0   \n",
       "2      1       0       0       0       0       0       0       0       0   \n",
       "3      4       0       0       0       0       0       0       0       0   \n",
       "4      0       0       0       0       0       0       0       0       0   \n",
       "5      0       0       0       0       0       0       0       0       0   \n",
       "6      7       0       0       0       0       0       0       0       0   \n",
       "7      3       0       0       0       0       0       0       0       0   \n",
       "8      5       0       0       0       0       0       0       0       0   \n",
       "9      3       0       0       0       0       0       0       0       0   \n",
       "\n",
       "   pixel8  ...  pixel774  pixel775  pixel776  pixel777  pixel778  pixel779  \\\n",
       "0       0  ...         0         0         0         0         0         0   \n",
       "1       0  ...         0         0         0         0         0         0   \n",
       "2       0  ...         0         0         0         0         0         0   \n",
       "3       0  ...         0         0         0         0         0         0   \n",
       "4       0  ...         0         0         0         0         0         0   \n",
       "5       0  ...         0         0         0         0         0         0   \n",
       "6       0  ...         0         0         0         0         0         0   \n",
       "7       0  ...         0         0         0         0         0         0   \n",
       "8       0  ...         0         0         0         0         0         0   \n",
       "9       0  ...         0         0         0         0         0         0   \n",
       "\n",
       "   pixel780  pixel781  pixel782  pixel783  \n",
       "0         0         0         0         0  \n",
       "1         0         0         0         0  \n",
       "2         0         0         0         0  \n",
       "3         0         0         0         0  \n",
       "4         0         0         0         0  \n",
       "5         0         0         0         0  \n",
       "6         0         0         0         0  \n",
       "7         0         0         0         0  \n",
       "8         0         0         0         0  \n",
       "9         0         0         0         0  \n",
       "\n",
       "[10 rows x 785 columns]"
      ]
     },
     "execution_count": 2,
     "metadata": {},
     "output_type": "execute_result"
    }
   ],
   "source": [
    "train = pd.read_csv('/kaggle/input/digit-recognizer/train.csv')\n",
    "train.head(10)"
   ]
  },
  {
   "cell_type": "markdown",
   "metadata": {
    "papermill": {
     "duration": 0.019239,
     "end_time": "2021-03-12T14:01:45.103917",
     "exception": false,
     "start_time": "2021-03-12T14:01:45.084678",
     "status": "completed"
    },
    "tags": []
   },
   "source": [
    "Reshaping the columns of the dataframe to form the images. "
   ]
  },
  {
   "cell_type": "code",
   "execution_count": 3,
   "metadata": {
    "execution": {
     "iopub.execute_input": "2021-03-12T14:01:45.256581Z",
     "iopub.status.busy": "2021-03-12T14:01:45.255747Z",
     "iopub.status.idle": "2021-03-12T14:01:45.338856Z",
     "shell.execute_reply": "2021-03-12T14:01:45.338245Z"
    },
    "papermill": {
     "duration": 0.216702,
     "end_time": "2021-03-12T14:01:45.339007",
     "exception": false,
     "start_time": "2021-03-12T14:01:45.122305",
     "status": "completed"
    },
    "tags": []
   },
   "outputs": [
    {
     "name": "stdout",
     "output_type": "stream",
     "text": [
      "Size of dataset:  (42000, 28, 28, 1)\n"
     ]
    }
   ],
   "source": [
    "Y_train = train[\"label\"]\n",
    "X_train = train.drop([\"label\"],axis=1)\n",
    "X_train = X_train.values.astype('float32')\n",
    "X_train = X_train.reshape(X_train.shape[0],28,28,1)\n",
    "print(\"Size of dataset: \",X_train.shape)"
   ]
  },
  {
   "cell_type": "markdown",
   "metadata": {
    "papermill": {
     "duration": 0.019057,
     "end_time": "2021-03-12T14:01:45.376989",
     "exception": false,
     "start_time": "2021-03-12T14:01:45.357932",
     "status": "completed"
    },
    "tags": []
   },
   "source": [
    "Visualizing and verifying one of the images in the dataset."
   ]
  },
  {
   "cell_type": "code",
   "execution_count": 4,
   "metadata": {
    "execution": {
     "iopub.execute_input": "2021-03-12T14:01:45.437868Z",
     "iopub.status.busy": "2021-03-12T14:01:45.435883Z",
     "iopub.status.idle": "2021-03-12T14:01:45.596655Z",
     "shell.execute_reply": "2021-03-12T14:01:45.596073Z"
    },
    "papermill": {
     "duration": 0.201029,
     "end_time": "2021-03-12T14:01:45.596825",
     "exception": false,
     "start_time": "2021-03-12T14:01:45.395796",
     "status": "completed"
    },
    "tags": []
   },
   "outputs": [
    {
     "data": {
      "image/png": "[encoded data removed]",
      "text/plain": [
       "<Figure size 432x288 with 1 Axes>"
      ]
     },
     "metadata": {
      "needs_background": "light"
     },
     "output_type": "display_data"
    }
   ],
   "source": [
    "import matplotlib.pyplot as plt\n",
    "\n",
    "plt.imshow(X_train[100], cmap=plt.get_cmap('gray'))\n",
    "plt.title(Y_train[100]);"
   ]
  },
  {
   "cell_type": "markdown",
   "metadata": {
    "papermill": {
     "duration": 0.020961,
     "end_time": "2021-03-12T14:01:45.637574",
     "exception": false,
     "start_time": "2021-03-12T14:01:45.616613",
     "status": "completed"
    },
    "tags": []
   },
   "source": [
    "I have used three methods for data augmentation:\n",
    "1. Image Binarization\n",
    "2. Image Rotation\n",
    "3. Image translation"
   ]
  },
  {
   "cell_type": "code",
   "execution_count": 5,
   "metadata": {
    "execution": {
     "iopub.execute_input": "2021-03-12T14:01:45.686984Z",
     "iopub.status.busy": "2021-03-12T14:01:45.686246Z",
     "iopub.status.idle": "2021-03-12T14:01:46.407708Z",
     "shell.execute_reply": "2021-03-12T14:01:46.407133Z"
    },
    "papermill": {
     "duration": 0.749619,
     "end_time": "2021-03-12T14:01:46.407874",
     "exception": false,
     "start_time": "2021-03-12T14:01:45.658255",
     "status": "completed"
    },
    "tags": []
   },
   "outputs": [],
   "source": [
    "#Converting the images to black and white\n",
    "import cv2\n",
    "\n",
    "X_train_bw = np.zeros((len(X_train),28,28))\n",
    "for i in range(len(X_train)):\n",
    "    (thresh, X_train_bw[i,:,:]) = cv2.threshold(X_train[i], 127, 255, cv2.THRESH_BINARY)\n",
    "\n",
    "X_train_bw = X_train_bw.reshape(len(X_train_bw),28,28,1)"
   ]
  },
  {
   "cell_type": "code",
   "execution_count": 6,
   "metadata": {
    "execution": {
     "iopub.execute_input": "2021-03-12T14:01:46.470627Z",
     "iopub.status.busy": "2021-03-12T14:01:46.469928Z",
     "iopub.status.idle": "2021-03-12T14:01:46.682421Z",
     "shell.execute_reply": "2021-03-12T14:01:46.681837Z"
    },
    "papermill": {
     "duration": 0.254957,
     "end_time": "2021-03-12T14:01:46.682703",
     "exception": false,
     "start_time": "2021-03-12T14:01:46.427746",
     "status": "completed"
    },
    "tags": []
   },
   "outputs": [
    {
     "data": {
      "text/plain": [
       "<matplotlib.image.AxesImage at 0x7f7fe23fee50>"
      ]
     },
     "execution_count": 6,
     "metadata": {},
     "output_type": "execute_result"
    },
    {
     "data": {
      "image/png": "[encoded data removed]",
      "text/plain": [
       "<Figure size 432x288 with 2 Axes>"
      ]
     },
     "metadata": {
      "needs_background": "light"
     },
     "output_type": "display_data"
    }
   ],
   "source": [
    "plt.subplot(1,2,1)\n",
    "plt.title('Original Image')\n",
    "plt.imshow(X_train[100], cmap=plt.get_cmap('gray'))\n",
    "\n",
    "plt.subplot(1,2,2)\n",
    "plt.title('Binarized Image')\n",
    "plt.imshow(X_train_bw[100], cmap=plt.get_cmap('gray'))"
   ]
  },
  {
   "cell_type": "code",
   "execution_count": 7,
   "metadata": {
    "execution": {
     "iopub.execute_input": "2021-03-12T14:01:46.733670Z",
     "iopub.status.busy": "2021-03-12T14:01:46.732832Z",
     "iopub.status.idle": "2021-03-12T14:01:48.493007Z",
     "shell.execute_reply": "2021-03-12T14:01:48.492046Z"
    },
    "papermill": {
     "duration": 1.789629,
     "end_time": "2021-03-12T14:01:48.493214",
     "exception": false,
     "start_time": "2021-03-12T14:01:46.703585",
     "status": "completed"
    },
    "tags": []
   },
   "outputs": [],
   "source": [
    "#Rotating the images clockwise and anticlockwise by 20 degrees. \n",
    "\n",
    "pos_matrix = cv2.getRotationMatrix2D((14, 14), 20, 1.0)\n",
    "neg_matrix = cv2.getRotationMatrix2D((14, 14), -20, 1.0)\n",
    "\n",
    "X_train_rot_pos = np.zeros((len(X_train),28,28))\n",
    "for i in range(len(X_train)):\n",
    "    X_train_rot_pos[i,:,:] = cv2.warpAffine(X_train[i], pos_matrix, (28, 28))\n",
    "X_train_rot_pos = X_train_rot_pos.reshape(len(X_train_rot_pos),28,28,1)\n",
    "\n",
    "X_train_rot_neg = np.zeros((len(X_train),28,28))\n",
    "for i in range(len(X_train)):\n",
    "    X_train_rot_neg[i,:,:] = cv2.warpAffine(X_train[i], neg_matrix, (28, 28))\n",
    "X_train_rot_neg = X_train_rot_neg.reshape(len(X_train_rot_neg),28,28,1)\n"
   ]
  },
  {
   "cell_type": "code",
   "execution_count": 8,
   "metadata": {
    "execution": {
     "iopub.execute_input": "2021-03-12T14:01:48.571337Z",
     "iopub.status.busy": "2021-03-12T14:01:48.561035Z",
     "iopub.status.idle": "2021-03-12T14:01:48.845211Z",
     "shell.execute_reply": "2021-03-12T14:01:48.844433Z"
    },
    "papermill": {
     "duration": 0.331007,
     "end_time": "2021-03-12T14:01:48.845509",
     "exception": false,
     "start_time": "2021-03-12T14:01:48.514502",
     "status": "completed"
    },
    "tags": []
   },
   "outputs": [
    {
     "data": {
      "text/plain": [
       "<matplotlib.image.AxesImage at 0x7f7fe00c8f50>"
      ]
     },
     "execution_count": 8,
     "metadata": {},
     "output_type": "execute_result"
    },
    {
     "data": {
      "image/png": "[encoded data removed]",
      "text/plain": [
       "<Figure size 432x288 with 3 Axes>"
      ]
     },
     "metadata": {
      "needs_background": "light"
     },
     "output_type": "display_data"
    }
   ],
   "source": [
    "#Verifying\n",
    "plt.subplot(1,3,1)\n",
    "plt.title('Original Image')\n",
    "plt.imshow(X_train[100],cmap=plt.get_cmap('gray'))\n",
    "\n",
    "plt.subplot(1,3,2)\n",
    "plt.title('Anti-Clockwise Rotation')\n",
    "plt.imshow(X_train_rot_pos[100], cmap=plt.get_cmap('gray'))\n",
    "\n",
    "plt.subplot(1,3,3)\n",
    "plt.title('Clockwise Rotation')\n",
    "plt.imshow(X_train_rot_neg[100], cmap=plt.get_cmap('gray'))"
   ]
  },
  {
   "cell_type": "code",
   "execution_count": 9,
   "metadata": {
    "execution": {
     "iopub.execute_input": "2021-03-12T14:01:48.904467Z",
     "iopub.status.busy": "2021-03-12T14:01:48.903725Z",
     "iopub.status.idle": "2021-03-12T14:01:52.309265Z",
     "shell.execute_reply": "2021-03-12T14:01:52.309779Z"
    },
    "papermill": {
     "duration": 3.441783,
     "end_time": "2021-03-12T14:01:52.310067",
     "exception": false,
     "start_time": "2021-03-12T14:01:48.868284",
     "status": "completed"
    },
    "tags": []
   },
   "outputs": [],
   "source": [
    "#Translation of images by 5 units in all four directions.\n",
    "\n",
    "pos_trans_x = np.float32([[1, 0, 5], [0, 1, 0]]) \n",
    "neg_trans_x = np.float32([[1, 0, -5], [0, 1, 0]]) \n",
    "pos_trans_y = np.float32([[1, 0, 0], [0, 1, 5]]) \n",
    "neg_trans_y = np.float32([[1, 0, 0], [0, 1, -5]]) \n",
    "\n",
    "X_train_pos_x = np.zeros((len(X_train),28,28))\n",
    "X_train_pos_y = np.zeros((len(X_train),28,28))\n",
    "X_train_neg_x = np.zeros((len(X_train),28,28))\n",
    "X_train_neg_y = np.zeros((len(X_train),28,28))\n",
    "for i in range(len(X_train)):\n",
    "    X_train_pos_x[i,:,:] = cv2.warpAffine(X_train[i], pos_trans_x, (28, 28))\n",
    "    X_train_pos_y[i,:,:] = cv2.warpAffine(X_train[i], pos_trans_y, (28, 28))\n",
    "    X_train_neg_x[i,:,:] = cv2.warpAffine(X_train[i], neg_trans_x, (28, 28))\n",
    "    X_train_neg_y[i,:,:] = cv2.warpAffine(X_train[i], neg_trans_y, (28, 28))\n",
    "    \n",
    "X_train_pos_x = X_train_pos_x.reshape(len(X_train_pos_x),28,28,1)\n",
    "X_train_pos_y = X_train_pos_y.reshape(len(X_train_pos_y),28,28,1)\n",
    "X_train_neg_x = X_train_neg_x.reshape(len(X_train_neg_x),28,28,1)\n",
    "X_train_neg_y = X_train_neg_y.reshape(len(X_train_neg_y),28,28,1)"
   ]
  },
  {
   "cell_type": "code",
   "execution_count": 10,
   "metadata": {
    "execution": {
     "iopub.execute_input": "2021-03-12T14:01:52.358886Z",
     "iopub.status.busy": "2021-03-12T14:01:52.358077Z",
     "iopub.status.idle": "2021-03-12T14:01:52.801297Z",
     "shell.execute_reply": "2021-03-12T14:01:52.797540Z"
    },
    "papermill": {
     "duration": 0.469048,
     "end_time": "2021-03-12T14:01:52.801486",
     "exception": false,
     "start_time": "2021-03-12T14:01:52.332438",
     "status": "completed"
    },
    "tags": []
   },
   "outputs": [
    {
     "data": {
      "text/plain": [
       "<matplotlib.image.AxesImage at 0x7f7fd812e490>"
      ]
     },
     "execution_count": 10,
     "metadata": {},
     "output_type": "execute_result"
    },
    {
     "data": {
      "image/png": "[encoded data removed]",
      "text/plain": [
       "<Figure size 432x288 with 5 Axes>"
      ]
     },
     "metadata": {
      "needs_background": "light"
     },
     "output_type": "display_data"
    }
   ],
   "source": [
    "#Verifying\n",
    "plt.subplot(1,5,1)\n",
    "plt.imshow(X_train[100],cmap=plt.get_cmap('gray'))\n",
    "plt.title('Original Image')\n",
    "\n",
    "plt.subplot(1,5,2)\n",
    "plt.title('+ve x')\n",
    "plt.imshow(X_train_pos_x[100], cmap=plt.get_cmap('gray'))\n",
    "\n",
    "plt.subplot(1,5,3)\n",
    "plt.title('-ve x')\n",
    "plt.imshow(X_train_neg_x[100], cmap=plt.get_cmap('gray'))\n",
    "\n",
    "plt.subplot(1,5,4)\n",
    "plt.title('+ve y')\n",
    "plt.imshow(X_train_pos_y[100], cmap=plt.get_cmap('gray'))\n",
    "\n",
    "plt.subplot(1,5,5)\n",
    "plt.title('-ve y')\n",
    "plt.imshow(X_train_neg_y[100], cmap=plt.get_cmap('gray'))"
   ]
  },
  {
   "cell_type": "code",
   "execution_count": 11,
   "metadata": {
    "execution": {
     "iopub.execute_input": "2021-03-12T14:01:52.869188Z",
     "iopub.status.busy": "2021-03-12T14:01:52.867890Z",
     "iopub.status.idle": "2021-03-12T14:01:53.902469Z",
     "shell.execute_reply": "2021-03-12T14:01:53.901824Z"
    },
    "papermill": {
     "duration": 1.07141,
     "end_time": "2021-03-12T14:01:53.902633",
     "exception": false,
     "start_time": "2021-03-12T14:01:52.831223",
     "status": "completed"
    },
    "tags": []
   },
   "outputs": [
    {
     "name": "stdout",
     "output_type": "stream",
     "text": [
      "Number of images:  336000\n",
      "Number of labels:  336000\n"
     ]
    }
   ],
   "source": [
    "#Adding all the generated data\n",
    "\n",
    "X_train = np.concatenate((X_train,X_train_bw,X_train_rot_pos,X_train_rot_neg,\n",
    "                          X_train_pos_x,X_train_neg_x,X_train_pos_y,X_train_neg_y),axis=0)\n",
    "Y_train = pd.concat([Y_train,Y_train,Y_train,Y_train,Y_train,Y_train,Y_train,Y_train],axis=0)\n",
    "Y_train = Y_train.values\n",
    "print(\"Number of images: \",len(X_train))\n",
    "print(\"Number of labels: \",len(Y_train))"
   ]
  },
  {
   "cell_type": "code",
   "execution_count": 12,
   "metadata": {
    "execution": {
     "iopub.execute_input": "2021-03-12T14:01:53.957000Z",
     "iopub.status.busy": "2021-03-12T14:01:53.955845Z",
     "iopub.status.idle": "2021-03-12T14:01:55.444159Z",
     "shell.execute_reply": "2021-03-12T14:01:55.444740Z"
    },
    "papermill": {
     "duration": 1.518205,
     "end_time": "2021-03-12T14:01:55.444953",
     "exception": false,
     "start_time": "2021-03-12T14:01:53.926748",
     "status": "completed"
    },
    "tags": []
   },
   "outputs": [
    {
     "name": "stdout",
     "output_type": "stream",
     "text": [
      "Maximum pixel value:  255.0\n",
      "Minimum pixel value:  0.0\n"
     ]
    }
   ],
   "source": [
    "#Normalizing the dataset\n",
    "\n",
    "max_px = X_train.max()\n",
    "min_px = X_train.min()\n",
    "print(\"Maximum pixel value: \",max_px)\n",
    "print(\"Minimum pixel value: \",min_px)\n",
    "\n",
    "X_train = (X_train - min_px)/(max_px - min_px)"
   ]
  },
  {
   "cell_type": "code",
   "execution_count": 13,
   "metadata": {
    "execution": {
     "iopub.execute_input": "2021-03-12T14:01:55.508254Z",
     "iopub.status.busy": "2021-03-12T14:01:55.507519Z",
     "iopub.status.idle": "2021-03-12T14:02:03.630755Z",
     "shell.execute_reply": "2021-03-12T14:02:03.629873Z"
    },
    "papermill": {
     "duration": 8.160725,
     "end_time": "2021-03-12T14:02:03.630936",
     "exception": false,
     "start_time": "2021-03-12T14:01:55.470211",
     "status": "completed"
    },
    "tags": []
   },
   "outputs": [
    {
     "name": "stdout",
     "output_type": "stream",
     "text": [
      "Shape of labels:  (336000, 10)\n",
      "8\n",
      "[0. 0. 0. 0. 0. 0. 0. 0. 1. 0.]\n"
     ]
    }
   ],
   "source": [
    "#One-Hot encoding the labels\n",
    "\n",
    "from keras.utils import to_categorical\n",
    "\n",
    "Y_train_encoded = to_categorical(Y_train)\n",
    "print(\"Shape of labels: \",Y_train_encoded.shape)\n",
    "#Verifying\n",
    "print(Y_train[10])\n",
    "print(Y_train_encoded[10])"
   ]
  },
  {
   "cell_type": "markdown",
   "metadata": {
    "papermill": {
     "duration": 0.024838,
     "end_time": "2021-03-12T14:02:03.681148",
     "exception": false,
     "start_time": "2021-03-12T14:02:03.656310",
     "status": "completed"
    },
    "tags": []
   },
   "source": [
    "Here I have used NAdam as the optimizer and kullback_leibler_divergence as the loss function. \n",
    "The CNN model is as follows:\n",
    "Conv2D*2 --> MaxPooling2D --> Dropout --> Conv2D*2 --> MaxPooling2D --> Flatten --> Dense --> Dropout --> Dense (output)"
   ]
  },
  {
   "cell_type": "code",
   "execution_count": 14,
   "metadata": {
    "execution": {
     "iopub.execute_input": "2021-03-12T14:02:03.741104Z",
     "iopub.status.busy": "2021-03-12T14:02:03.740100Z",
     "iopub.status.idle": "2021-03-12T14:02:03.958694Z",
     "shell.execute_reply": "2021-03-12T14:02:03.959406Z"
    },
    "papermill": {
     "duration": 0.253176,
     "end_time": "2021-03-12T14:02:03.959671",
     "exception": false,
     "start_time": "2021-03-12T14:02:03.706495",
     "status": "completed"
    },
    "tags": []
   },
   "outputs": [
    {
     "name": "stdout",
     "output_type": "stream",
     "text": [
      "Model: \"sequential\"\n",
      "_________________________________________________________________\n",
      "Layer (type)                 Output Shape              Param #   \n",
      "=================================================================\n",
      "conv2d (Conv2D)              (None, 26, 26, 64)        640       \n",
      "_________________________________________________________________\n",
      "conv2d_1 (Conv2D)            (None, 24, 24, 64)        36928     \n",
      "_________________________________________________________________\n",
      "max_pooling2d (MaxPooling2D) (None, 12, 12, 64)        0         \n",
      "_________________________________________________________________\n",
      "dropout (Dropout)            (None, 12, 12, 64)        0         \n",
      "_________________________________________________________________\n",
      "conv2d_2 (Conv2D)            (None, 10, 10, 128)       73856     \n",
      "_________________________________________________________________\n",
      "conv2d_3 (Conv2D)            (None, 8, 8, 128)         147584    \n",
      "_________________________________________________________________\n",
      "max_pooling2d_1 (MaxPooling2 (None, 4, 4, 128)         0         \n",
      "_________________________________________________________________\n",
      "flatten (Flatten)            (None, 2048)              0         \n",
      "_________________________________________________________________\n",
      "dense (Dense)                (None, 256)               524544    \n",
      "_________________________________________________________________\n",
      "dropout_1 (Dropout)          (None, 256)               0         \n",
      "_________________________________________________________________\n",
      "dense_1 (Dense)              (None, 10)                2570      \n",
      "=================================================================\n",
      "Total params: 786,122\n",
      "Trainable params: 786,122\n",
      "Non-trainable params: 0\n",
      "_________________________________________________________________\n"
     ]
    }
   ],
   "source": [
    "#CNN classifier\n",
    "\n",
    "from tensorflow.keras.models import Sequential\n",
    "from tensorflow.keras.layers import Dense, Conv2D, Dropout, Flatten, MaxPooling2D,Input\n",
    "\n",
    "input_shape = (28,28,1)\n",
    "model = Sequential()\n",
    "model.add(Input(shape=input_shape))\n",
    "model.add(Conv2D(64, kernel_size=(3,3), activation=\"relu\"))\n",
    "model.add(Conv2D(64, kernel_size=(3,3), activation=\"relu\"))\n",
    "model.add(MaxPooling2D(pool_size=(2, 2)))\n",
    "model.add(Dropout(0.25))\n",
    "model.add(Conv2D(128, kernel_size=(3,3), activation=\"relu\"))\n",
    "model.add(Conv2D(128, kernel_size=(3,3), activation=\"relu\"))\n",
    "model.add(MaxPooling2D(pool_size=(2, 2)))\n",
    "model.add(Flatten())\n",
    "model.add(Dense(256, activation=\"relu\"))\n",
    "model.add(Dropout(0.5))\n",
    "model.add(Dense(10,activation=\"softmax\"))\n",
    "\n",
    "model.summary()"
   ]
  },
  {
   "cell_type": "markdown",
   "metadata": {
    "papermill": {
     "duration": 0.025632,
     "end_time": "2021-03-12T14:02:04.011065",
     "exception": false,
     "start_time": "2021-03-12T14:02:03.985433",
     "status": "completed"
    },
    "tags": []
   },
   "source": [
    "Training the model..."
   ]
  },
  {
   "cell_type": "code",
   "execution_count": 15,
   "metadata": {
    "execution": {
     "iopub.execute_input": "2021-03-12T14:02:04.077009Z",
     "iopub.status.busy": "2021-03-12T14:02:04.076316Z",
     "iopub.status.idle": "2021-03-12T16:51:26.685159Z",
     "shell.execute_reply": "2021-03-12T16:51:26.685741Z"
    },
    "papermill": {
     "duration": 10162.649592,
     "end_time": "2021-03-12T16:51:26.686130",
     "exception": false,
     "start_time": "2021-03-12T14:02:04.036538",
     "status": "completed"
    },
    "tags": []
   },
   "outputs": [
    {
     "name": "stdout",
     "output_type": "stream",
     "text": [
      "Epoch 1/10\n",
      "2363/2363 [==============================] - 1009s 427ms/step - loss: 0.3392 - accuracy: 0.8911 - val_loss: 0.0928 - val_accuracy: 0.9712\n",
      "Epoch 2/10\n",
      "2363/2363 [==============================] - 1011s 428ms/step - loss: 0.0490 - accuracy: 0.9852 - val_loss: 0.0654 - val_accuracy: 0.9800\n",
      "Epoch 3/10\n",
      "2363/2363 [==============================] - 1012s 428ms/step - loss: 0.0358 - accuracy: 0.9894 - val_loss: 0.0585 - val_accuracy: 0.9823\n",
      "Epoch 4/10\n",
      "2363/2363 [==============================] - 1015s 430ms/step - loss: 0.0271 - accuracy: 0.9916 - val_loss: 0.0671 - val_accuracy: 0.9814\n",
      "Epoch 5/10\n",
      "2363/2363 [==============================] - 1024s 433ms/step - loss: 0.0227 - accuracy: 0.9932 - val_loss: 0.0379 - val_accuracy: 0.9885\n",
      "Epoch 6/10\n",
      "2363/2363 [==============================] - 1018s 431ms/step - loss: 0.0185 - accuracy: 0.9943 - val_loss: 0.0404 - val_accuracy: 0.9877\n",
      "Epoch 7/10\n",
      "2363/2363 [==============================] - 1020s 432ms/step - loss: 0.0168 - accuracy: 0.9948 - val_loss: 0.0388 - val_accuracy: 0.9882\n",
      "Epoch 8/10\n",
      "2363/2363 [==============================] - 1012s 428ms/step - loss: 0.0155 - accuracy: 0.9953 - val_loss: 0.0401 - val_accuracy: 0.9897\n",
      "Epoch 9/10\n",
      "2363/2363 [==============================] - 1025s 434ms/step - loss: 0.0138 - accuracy: 0.9956 - val_loss: 0.0430 - val_accuracy: 0.9880\n",
      "Epoch 10/10\n",
      "2363/2363 [==============================] - 1015s 429ms/step - loss: 0.0124 - accuracy: 0.9962 - val_loss: 0.0398 - val_accuracy: 0.9896\n"
     ]
    },
    {
     "data": {
      "text/plain": [
       "<tensorflow.python.keras.callbacks.History at 0x7f7f2e19b590>"
      ]
     },
     "execution_count": 15,
     "metadata": {},
     "output_type": "execute_result"
    }
   ],
   "source": [
    "model.compile(optimizer='Nadam', loss='kullback_leibler_divergence', metrics=['accuracy'])\n",
    "model.fit(X_train,Y_train_encoded, batch_size=128, epochs=10,validation_split=0.1)"
   ]
  },
  {
   "cell_type": "code",
   "execution_count": 16,
   "metadata": {
    "execution": {
     "iopub.execute_input": "2021-03-12T16:51:41.166850Z",
     "iopub.status.busy": "2021-03-12T16:51:41.166089Z",
     "iopub.status.idle": "2021-03-12T16:56:48.374749Z",
     "shell.execute_reply": "2021-03-12T16:56:48.375290Z"
    },
    "papermill": {
     "duration": 314.431022,
     "end_time": "2021-03-12T16:56:48.375478",
     "exception": false,
     "start_time": "2021-03-12T16:51:33.944456",
     "status": "completed"
    },
    "tags": []
   },
   "outputs": [
    {
     "name": "stdout",
     "output_type": "stream",
     "text": [
      "696\n"
     ]
    }
   ],
   "source": [
    "#Analyzing the wrong predictions in the train dataset\n",
    "\n",
    "Y_train_predict = model.predict(X_train)\n",
    "predicted_train_label = []\n",
    "for y in Y_train_predict:\n",
    "    predicted_train_label.append(np.argmax(y))\n",
    "    \n",
    "wrong_prediction = []\n",
    "for l in range(len(predicted_train_label)):\n",
    "    if(predicted_train_label[l] != Y_train[l]):\n",
    "        wrong_prediction.append(l)\n",
    "print(len(wrong_prediction))"
   ]
  },
  {
   "cell_type": "markdown",
   "metadata": {
    "papermill": {
     "duration": 7.339265,
     "end_time": "2021-03-12T16:57:03.028469",
     "exception": false,
     "start_time": "2021-03-12T16:56:55.689204",
     "status": "completed"
    },
    "tags": []
   },
   "source": [
    "Reading the test dataset"
   ]
  },
  {
   "cell_type": "code",
   "execution_count": 17,
   "metadata": {
    "execution": {
     "iopub.execute_input": "2021-03-12T16:57:17.847019Z",
     "iopub.status.busy": "2021-03-12T16:57:17.846228Z",
     "iopub.status.idle": "2021-03-12T16:57:20.454851Z",
     "shell.execute_reply": "2021-03-12T16:57:20.454298Z"
    },
    "papermill": {
     "duration": 9.851809,
     "end_time": "2021-03-12T16:57:20.455016",
     "exception": false,
     "start_time": "2021-03-12T16:57:10.603207",
     "status": "completed"
    },
    "tags": []
   },
   "outputs": [
    {
     "data": {
      "text/html": [
       "<div>\n",
       "<style scoped>\n",
       "    .dataframe tbody tr th:only-of-type {\n",
       "        vertical-align: middle;\n",
       "    }\n",
       "\n",
       "    .dataframe tbody tr th {\n",
       "        vertical-align: top;\n",
       "    }\n",
       "\n",
       "    .dataframe thead th {\n",
       "        text-align: right;\n",
       "    }\n",
       "</style>\n",
       "<table border=\"1\" class=\"dataframe\">\n",
       "  <thead>\n",
       "    <tr style=\"text-align: right;\">\n",
       "      <th></th>\n",
       "      <th>pixel0</th>\n",
       "      <th>pixel1</th>\n",
       "      <th>pixel2</th>\n",
       "      <th>pixel3</th>\n",
       "      <th>pixel4</th>\n",
       "      <th>pixel5</th>\n",
       "      <th>pixel6</th>\n",
       "      <th>pixel7</th>\n",
       "      <th>pixel8</th>\n",
       "      <th>pixel9</th>\n",
       "      <th>...</th>\n",
       "      <th>pixel774</th>\n",
       "      <th>pixel775</th>\n",
       "      <th>pixel776</th>\n",
       "      <th>pixel777</th>\n",
       "      <th>pixel778</th>\n",
       "      <th>pixel779</th>\n",
       "      <th>pixel780</th>\n",
       "      <th>pixel781</th>\n",
       "      <th>pixel782</th>\n",
       "      <th>pixel783</th>\n",
       "    </tr>\n",
       "  </thead>\n",
       "  <tbody>\n",
       "    <tr>\n",
       "      <th>0</th>\n",
       "      <td>0</td>\n",
       "      <td>0</td>\n",
       "      <td>0</td>\n",
       "      <td>0</td>\n",
       "      <td>0</td>\n",
       "      <td>0</td>\n",
       "      <td>0</td>\n",
       "      <td>0</td>\n",
       "      <td>0</td>\n",
       "      <td>0</td>\n",
       "      <td>...</td>\n",
       "      <td>0</td>\n",
       "      <td>0</td>\n",
       "      <td>0</td>\n",
       "      <td>0</td>\n",
       "      <td>0</td>\n",
       "      <td>0</td>\n",
       "      <td>0</td>\n",
       "      <td>0</td>\n",
       "      <td>0</td>\n",
       "      <td>0</td>\n",
       "    </tr>\n",
       "    <tr>\n",
       "      <th>1</th>\n",
       "      <td>0</td>\n",
       "      <td>0</td>\n",
       "      <td>0</td>\n",
       "      <td>0</td>\n",
       "      <td>0</td>\n",
       "      <td>0</td>\n",
       "      <td>0</td>\n",
       "      <td>0</td>\n",
       "      <td>0</td>\n",
       "      <td>0</td>\n",
       "      <td>...</td>\n",
       "      <td>0</td>\n",
       "      <td>0</td>\n",
       "      <td>0</td>\n",
       "      <td>0</td>\n",
       "      <td>0</td>\n",
       "      <td>0</td>\n",
       "      <td>0</td>\n",
       "      <td>0</td>\n",
       "      <td>0</td>\n",
       "      <td>0</td>\n",
       "    </tr>\n",
       "    <tr>\n",
       "      <th>2</th>\n",
       "      <td>0</td>\n",
       "      <td>0</td>\n",
       "      <td>0</td>\n",
       "      <td>0</td>\n",
       "      <td>0</td>\n",
       "      <td>0</td>\n",
       "      <td>0</td>\n",
       "      <td>0</td>\n",
       "      <td>0</td>\n",
       "      <td>0</td>\n",
       "      <td>...</td>\n",
       "      <td>0</td>\n",
       "      <td>0</td>\n",
       "      <td>0</td>\n",
       "      <td>0</td>\n",
       "      <td>0</td>\n",
       "      <td>0</td>\n",
       "      <td>0</td>\n",
       "      <td>0</td>\n",
       "      <td>0</td>\n",
       "      <td>0</td>\n",
       "    </tr>\n",
       "    <tr>\n",
       "      <th>3</th>\n",
       "      <td>0</td>\n",
       "      <td>0</td>\n",
       "      <td>0</td>\n",
       "      <td>0</td>\n",
       "      <td>0</td>\n",
       "      <td>0</td>\n",
       "      <td>0</td>\n",
       "      <td>0</td>\n",
       "      <td>0</td>\n",
       "      <td>0</td>\n",
       "      <td>...</td>\n",
       "      <td>0</td>\n",
       "      <td>0</td>\n",
       "      <td>0</td>\n",
       "      <td>0</td>\n",
       "      <td>0</td>\n",
       "      <td>0</td>\n",
       "      <td>0</td>\n",
       "      <td>0</td>\n",
       "      <td>0</td>\n",
       "      <td>0</td>\n",
       "    </tr>\n",
       "    <tr>\n",
       "      <th>4</th>\n",
       "      <td>0</td>\n",
       "      <td>0</td>\n",
       "      <td>0</td>\n",
       "      <td>0</td>\n",
       "      <td>0</td>\n",
       "      <td>0</td>\n",
       "      <td>0</td>\n",
       "      <td>0</td>\n",
       "      <td>0</td>\n",
       "      <td>0</td>\n",
       "      <td>...</td>\n",
       "      <td>0</td>\n",
       "      <td>0</td>\n",
       "      <td>0</td>\n",
       "      <td>0</td>\n",
       "      <td>0</td>\n",
       "      <td>0</td>\n",
       "      <td>0</td>\n",
       "      <td>0</td>\n",
       "      <td>0</td>\n",
       "      <td>0</td>\n",
       "    </tr>\n",
       "    <tr>\n",
       "      <th>5</th>\n",
       "      <td>0</td>\n",
       "      <td>0</td>\n",
       "      <td>0</td>\n",
       "      <td>0</td>\n",
       "      <td>0</td>\n",
       "      <td>0</td>\n",
       "      <td>0</td>\n",
       "      <td>0</td>\n",
       "      <td>0</td>\n",
       "      <td>0</td>\n",
       "      <td>...</td>\n",
       "      <td>0</td>\n",
       "      <td>0</td>\n",
       "      <td>0</td>\n",
       "      <td>0</td>\n",
       "      <td>0</td>\n",
       "      <td>0</td>\n",
       "      <td>0</td>\n",
       "      <td>0</td>\n",
       "      <td>0</td>\n",
       "      <td>0</td>\n",
       "    </tr>\n",
       "    <tr>\n",
       "      <th>6</th>\n",
       "      <td>0</td>\n",
       "      <td>0</td>\n",
       "      <td>0</td>\n",
       "      <td>0</td>\n",
       "      <td>0</td>\n",
       "      <td>0</td>\n",
       "      <td>0</td>\n",
       "      <td>0</td>\n",
       "      <td>0</td>\n",
       "      <td>0</td>\n",
       "      <td>...</td>\n",
       "      <td>0</td>\n",
       "      <td>0</td>\n",
       "      <td>0</td>\n",
       "      <td>0</td>\n",
       "      <td>0</td>\n",
       "      <td>0</td>\n",
       "      <td>0</td>\n",
       "      <td>0</td>\n",
       "      <td>0</td>\n",
       "      <td>0</td>\n",
       "    </tr>\n",
       "    <tr>\n",
       "      <th>7</th>\n",
       "      <td>0</td>\n",
       "      <td>0</td>\n",
       "      <td>0</td>\n",
       "      <td>0</td>\n",
       "      <td>0</td>\n",
       "      <td>0</td>\n",
       "      <td>0</td>\n",
       "      <td>0</td>\n",
       "      <td>0</td>\n",
       "      <td>0</td>\n",
       "      <td>...</td>\n",
       "      <td>0</td>\n",
       "      <td>0</td>\n",
       "      <td>0</td>\n",
       "      <td>0</td>\n",
       "      <td>0</td>\n",
       "      <td>0</td>\n",
       "      <td>0</td>\n",
       "      <td>0</td>\n",
       "      <td>0</td>\n",
       "      <td>0</td>\n",
       "    </tr>\n",
       "    <tr>\n",
       "      <th>8</th>\n",
       "      <td>0</td>\n",
       "      <td>0</td>\n",
       "      <td>0</td>\n",
       "      <td>0</td>\n",
       "      <td>0</td>\n",
       "      <td>0</td>\n",
       "      <td>0</td>\n",
       "      <td>0</td>\n",
       "      <td>0</td>\n",
       "      <td>0</td>\n",
       "      <td>...</td>\n",
       "      <td>0</td>\n",
       "      <td>0</td>\n",
       "      <td>0</td>\n",
       "      <td>0</td>\n",
       "      <td>0</td>\n",
       "      <td>0</td>\n",
       "      <td>0</td>\n",
       "      <td>0</td>\n",
       "      <td>0</td>\n",
       "      <td>0</td>\n",
       "    </tr>\n",
       "    <tr>\n",
       "      <th>9</th>\n",
       "      <td>0</td>\n",
       "      <td>0</td>\n",
       "      <td>0</td>\n",
       "      <td>0</td>\n",
       "      <td>0</td>\n",
       "      <td>0</td>\n",
       "      <td>0</td>\n",
       "      <td>0</td>\n",
       "      <td>0</td>\n",
       "      <td>0</td>\n",
       "      <td>...</td>\n",
       "      <td>0</td>\n",
       "      <td>0</td>\n",
       "      <td>0</td>\n",
       "      <td>0</td>\n",
       "      <td>0</td>\n",
       "      <td>0</td>\n",
       "      <td>0</td>\n",
       "      <td>0</td>\n",
       "      <td>0</td>\n",
       "      <td>0</td>\n",
       "    </tr>\n",
       "  </tbody>\n",
       "</table>\n",
       "<p>10 rows × 784 columns</p>\n",
       "</div>"
      ],
      "text/plain": [
       "   pixel0  pixel1  pixel2  pixel3  pixel4  pixel5  pixel6  pixel7  pixel8  \\\n",
       "0       0       0       0       0       0       0       0       0       0   \n",
       "1       0       0       0       0       0       0       0       0       0   \n",
       "2       0       0       0       0       0       0       0       0       0   \n",
       "3       0       0       0       0       0       0       0       0       0   \n",
       "4       0       0       0       0       0       0       0       0       0   \n",
       "5       0       0       0       0       0       0       0       0       0   \n",
       "6       0       0       0       0       0       0       0       0       0   \n",
       "7       0       0       0       0       0       0       0       0       0   \n",
       "8       0       0       0       0       0       0       0       0       0   \n",
       "9       0       0       0       0       0       0       0       0       0   \n",
       "\n",
       "   pixel9  ...  pixel774  pixel775  pixel776  pixel777  pixel778  pixel779  \\\n",
       "0       0  ...         0         0         0         0         0         0   \n",
       "1       0  ...         0         0         0         0         0         0   \n",
       "2       0  ...         0         0         0         0         0         0   \n",
       "3       0  ...         0         0         0         0         0         0   \n",
       "4       0  ...         0         0         0         0         0         0   \n",
       "5       0  ...         0         0         0         0         0         0   \n",
       "6       0  ...         0         0         0         0         0         0   \n",
       "7       0  ...         0         0         0         0         0         0   \n",
       "8       0  ...         0         0         0         0         0         0   \n",
       "9       0  ...         0         0         0         0         0         0   \n",
       "\n",
       "   pixel780  pixel781  pixel782  pixel783  \n",
       "0         0         0         0         0  \n",
       "1         0         0         0         0  \n",
       "2         0         0         0         0  \n",
       "3         0         0         0         0  \n",
       "4         0         0         0         0  \n",
       "5         0         0         0         0  \n",
       "6         0         0         0         0  \n",
       "7         0         0         0         0  \n",
       "8         0         0         0         0  \n",
       "9         0         0         0         0  \n",
       "\n",
       "[10 rows x 784 columns]"
      ]
     },
     "execution_count": 17,
     "metadata": {},
     "output_type": "execute_result"
    }
   ],
   "source": [
    "test = pd.read_csv('/kaggle/input/digit-recognizer/test.csv')\n",
    "test.head(10)"
   ]
  },
  {
   "cell_type": "code",
   "execution_count": 18,
   "metadata": {
    "execution": {
     "iopub.execute_input": "2021-03-12T16:57:35.021961Z",
     "iopub.status.busy": "2021-03-12T16:57:35.020604Z",
     "iopub.status.idle": "2021-03-12T16:57:35.234667Z",
     "shell.execute_reply": "2021-03-12T16:57:35.233986Z"
    },
    "papermill": {
     "duration": 7.519066,
     "end_time": "2021-03-12T16:57:35.234861",
     "exception": false,
     "start_time": "2021-03-12T16:57:27.715795",
     "status": "completed"
    },
    "tags": []
   },
   "outputs": [
    {
     "data": {
      "text/plain": [
       "<matplotlib.image.AxesImage at 0x7f7f2c0bd5d0>"
      ]
     },
     "execution_count": 18,
     "metadata": {},
     "output_type": "execute_result"
    },
    {
     "data": {
      "image/png": "[encoded data removed]",
      "text/plain": [
       "<Figure size 432x288 with 1 Axes>"
      ]
     },
     "metadata": {
      "needs_background": "light"
     },
     "output_type": "display_data"
    }
   ],
   "source": [
    "X_test = test.values.astype('float32')\n",
    "X_test = X_test.reshape(X_test.shape[0],28,28,1)\n",
    "plt.imshow(X_test[100], cmap=plt.get_cmap('gray'))"
   ]
  },
  {
   "cell_type": "code",
   "execution_count": 19,
   "metadata": {
    "execution": {
     "iopub.execute_input": "2021-03-12T16:57:49.690757Z",
     "iopub.status.busy": "2021-03-12T16:57:49.690037Z",
     "iopub.status.idle": "2021-03-12T16:57:49.773624Z",
     "shell.execute_reply": "2021-03-12T16:57:49.772524Z"
    },
    "papermill": {
     "duration": 7.238157,
     "end_time": "2021-03-12T16:57:49.774081",
     "exception": false,
     "start_time": "2021-03-12T16:57:42.535924",
     "status": "completed"
    },
    "tags": []
   },
   "outputs": [
    {
     "name": "stdout",
     "output_type": "stream",
     "text": [
      "Maximum pixel value:  255.0\n",
      "Minimum pixel value:  0.0\n"
     ]
    }
   ],
   "source": [
    "#Normalizing the test dataset\n",
    "\n",
    "max_px = X_test.max()\n",
    "min_px = X_test.min()\n",
    "print(\"Maximum pixel value: \",max_px)\n",
    "print(\"Minimum pixel value: \",min_px)\n",
    "\n",
    "X_test = (X_test - min_px)/(max_px - min_px)"
   ]
  },
  {
   "cell_type": "code",
   "execution_count": 20,
   "metadata": {
    "execution": {
     "iopub.execute_input": "2021-03-12T16:58:04.352587Z",
     "iopub.status.busy": "2021-03-12T16:58:04.351879Z",
     "iopub.status.idle": "2021-03-12T16:58:28.953311Z",
     "shell.execute_reply": "2021-03-12T16:58:28.954071Z"
    },
    "papermill": {
     "duration": 31.857629,
     "end_time": "2021-03-12T16:58:28.954272",
     "exception": false,
     "start_time": "2021-03-12T16:57:57.096643",
     "status": "completed"
    },
    "tags": []
   },
   "outputs": [],
   "source": [
    "#Predicting the test labels using the trained model\n",
    "\n",
    "Y_predict = model.predict(X_test)"
   ]
  },
  {
   "cell_type": "code",
   "execution_count": 21,
   "metadata": {
    "execution": {
     "iopub.execute_input": "2021-03-12T16:58:43.544530Z",
     "iopub.status.busy": "2021-03-12T16:58:43.543489Z",
     "iopub.status.idle": "2021-03-12T16:58:43.635555Z",
     "shell.execute_reply": "2021-03-12T16:58:43.636391Z"
    },
    "papermill": {
     "duration": 7.453546,
     "end_time": "2021-03-12T16:58:43.636684",
     "exception": false,
     "start_time": "2021-03-12T16:58:36.183138",
     "status": "completed"
    },
    "tags": []
   },
   "outputs": [],
   "source": [
    "#Finding the predicted label using the predicted probabilities\n",
    "\n",
    "predicted_label = []\n",
    "for y in Y_predict:\n",
    "    predicted_label.append(np.argmax(y))"
   ]
  },
  {
   "cell_type": "code",
   "execution_count": 22,
   "metadata": {
    "execution": {
     "iopub.execute_input": "2021-03-12T16:58:58.235942Z",
     "iopub.status.busy": "2021-03-12T16:58:58.234180Z",
     "iopub.status.idle": "2021-03-12T16:58:58.297618Z",
     "shell.execute_reply": "2021-03-12T16:58:58.296594Z"
    },
    "papermill": {
     "duration": 7.331143,
     "end_time": "2021-03-12T16:58:58.297798",
     "exception": false,
     "start_time": "2021-03-12T16:58:50.966655",
     "status": "completed"
    },
    "tags": []
   },
   "outputs": [],
   "source": [
    "#Writing the result in the output file\n",
    "\n",
    "submission_df = pd.DataFrame({'ImageId' : list(range(1,test.shape[0]+1)),'Label' : predicted_label})\n",
    "submission = submission_df.to_csv('submission.csv',index=False)"
   ]
  },
  {
   "cell_type": "code",
   "execution_count": null,
   "metadata": {
    "papermill": {
     "duration": 7.241691,
     "end_time": "2021-03-12T16:59:12.834426",
     "exception": false,
     "start_time": "2021-03-12T16:59:05.592735",
     "status": "completed"
    },
    "tags": []
   },
   "outputs": [],
   "source": []
  }
 ],
 "metadata": {
  "kernelspec": {
   "display_name": "Python 3",
   "language": "python",
   "name": "python3"
  },
  "language_info": {
   "codemirror_mode": {
    "name": "ipython",
    "version": 3
   },
   "file_extension": ".py",
   "mimetype": "text/x-python",
   "name": "python",
   "nbconvert_exporter": "python",
   "pygments_lexer": "ipython3",
   "version": "3.7.9"
  },
  "papermill": {
   "default_parameters": {},
   "duration": 10669.339575,
   "end_time": "2021-03-12T16:59:22.598055",
   "environment_variables": {},
   "exception": null,
   "input_path": "__notebook__.ipynb",
   "output_path": "__notebook__.ipynb",
   "parameters": {},
   "start_time": "2021-03-12T14:01:33.258480",
   "version": "2.2.2"
  }
 },
 "nbformat": 4,
 "nbformat_minor": 4
}
